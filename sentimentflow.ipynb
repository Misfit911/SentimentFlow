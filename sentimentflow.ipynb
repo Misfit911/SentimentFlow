{
 "cells": [
  {
   "cell_type": "markdown",
   "metadata": {},
   "source": [
    "## 1. Business Understanding\n",
    "\n",
    "### 1.1 Overview\n",
    "\n",
    "SentimentFlow aims to address a real-world problem related to understanding public sentiment towards Apple and Google products on Twitter. The stakeholders include companies, marketing teams, and decision-makers who want to gauge public opinion and make informed strategic decisions based on social media sentiment.\n",
    "\n",
    "### Problem Statement\n",
    "\n",
    "The problem is to accurately classify the sentiment of tweets related to Apple and Google products. We want to determine whether a tweet expresses a positive, negative, or neutral sentiment. This classification can help companies understand customer satisfaction, identify potential issues, and tailor their responses accordingly.\n",
    "\n",
<<<<<<< HEAD
    "### Stakeholders\n",
=======
    "A major mobile vendor who has been collecting sentiments across brands, products and services reached out to us at **SentimentFlow** to address the business problem above.\n",
    "\n",
    "SentimentFlow leverages cutting-edge NLP techniques to analyze sentiment in textual data, providing valuable insights for decision-making by the management of the vendor.The analysis would be used to determine whether data is positive, negative or neutral. \n",
    "\n",
    "## 1.2. Problem Statement\n",
    "With such a large volume of information shared by and / or received from many users and potential users, business would not be able to keep up with the information received if they attempt to track everything, everywhere all at once, manually.\n",
>>>>>>> 9f12d6de1a0513cf75c0ac92d7aea4c5aee29e4b
    "\n",
    "1. **Companies (Apple and Google):** These organizations are directly impacted by public sentiment. They want to monitor how their products are perceived and identify areas for improvement.\n",
    "\n",
    "2. **Marketing Teams:** Marketing teams can use sentiment analysis to adjust their campaigns, respond to negative feedback, and highlight positive aspects of their products.\n",
    "\n",
<<<<<<< HEAD
    "3. **Decision-Makers:** Executives and managers need insights into public sentiment to make informed decisions about product development, customer support, and brand reputation.\n",
    "\n",
    "### Value Proposition\n",
    "\n",
    "By accurately classifying tweets, our NLP model can provide actionable insights to stakeholders. For example:\n",
    "- Identifying negative sentiment can help companies address issues promptly.\n",
    "- Recognizing positive sentiment can guide marketing efforts and reinforce successful strategies.\n",
    "- Understanding neutral sentiment can provide context and balance.\n",
=======
    "## 1.3. Proposed Solution\n",
    "Analysing the public opinion would help businesses monitor their brand and sentiments around their products and services coming in as customer feedback, and understand customer needs, while making them more conscious thus preventing poor public relations.\n",
>>>>>>> 9f12d6de1a0513cf75c0ac92d7aea4c5aee29e4b
    "\n",
    "### Objectives\n",
    "\n",
<<<<<<< HEAD
    "Main Objective\n",
    "\n",
    "> To develop a NLP (Natural Language Processing) multiclass classification model for sentiment analysis, aim to achieve a recall score of 85% and an accuracy of 90%. The model should categorize sentiments into three classes: Positive, Negative, and Neutral.\n",
    "\n",
    "Specific Objectives\n",
    "\n",
    "* To idenitfy the most common words used in the dataset using Word cloud.\n",
    "\n",
    "* To confirm the most common words that are positively and negatively tagged.\n",
    "\n",
    "* To recognize the products that have been opined by the users.\n",
    "\n",
    "* To spot the distribution of the sentiments.\n",
    "\n",
    "## Conclusion\n",
    "\n",
    "Our NLP model will contribute valuable insights to the real-world problem of understanding Twitter sentiment about Apple and Google products. Stakeholders can leverage this information to enhance their decision-making processes and improve overall customer satisfaction."
=======
    "**Specific Objectives**\n",
    "> - To idenitfy the most common words used in the dataset using Word cloud.\n",
    "> - To confirm the most used words that are positively and negatively tagged.\n",
    "> - To recognize the products that have been opined by the users.\n",
    "> - To spot the distribution of the sentiments.\n",
    "\n",
    "## 1.5. Contraints\n",
    "\n",
    "The following potential constraints were identified as below:\n",
    "- Data Quality - Incomplete data, imbalanced classes and missing Data could affect the overall performance of the models."
>>>>>>> 9f12d6de1a0513cf75c0ac92d7aea4c5aee29e4b
   ]
  },
  {
   "cell_type": "markdown",
   "metadata": {},
   "source": [
    "## Data Understanding\n",
    "\n",
    "### Data Sources\n",
    "The dataset originates from CrowdFlower via data.world. Contributors evaluated tweets related to various brands and products. Specifically:\n",
    "- Each tweet was labeled as expressing positive, negative, or no emotion toward a brand or product.\n",
    "- If emotion was expressed, contributors specified which brand or product was the target.\n",
    "\n",
    "### Suitability of Data\n",
    "Here's why this dataset is suitable for our project:\n",
    "1. **Relevance:** The data directly aligns with our business problem of understanding Twitter sentiment for Apple and Google products.\n",
    "2. **Real-World Context:** The tweets represent actual user opinions, making the problem relevant in practice.\n",
    "3. **Multiclass Labels:** We can build both binary (positive/negative) and multiclass (positive/negative/neutral) classifiers using this data.\n",
    "\n",
    "### Dataset Size\n",
    "The dataset contains over 9,000 labeled tweets. We'll explore its features to gain insights.\n",
    "\n",
    "### Descriptive Statistics\n",
    "- **tweet_text:** The content of each tweet.\n",
    "- **is_there_an_emotion_directed_at_a_brand_or_product:** No emotion toward brand or product, Positive emotion, Negative emotion, I can't tell\n",
    "- **emotion_in_tweet_is_directed_at:** The brand or product mentioned in the tweet.\n",
    "\n",
    "### Feature Inclusion\n",
    "Tweet text is the primary feature. The emotion label and target brand/product are essential for classification.\n",
    "\n",
    "### Limitations\n",
    "- **Label Noise:** Human raters' subjectivity may introduce noise.\n",
    "- **Imbalanced Classes:** We'll address class imbalance during modeling.\n",
    "- **Contextual Challenges:** Tweets are often short and context-dependent.\n",
    "- **Incomplete & Missing Data:** Could affect the overall performance of the models."
   ]
  },
  {
   "cell_type": "markdown",
   "metadata": {},
   "source": [
    "## Data Loading"
   ]
  },
  {
   "cell_type": "code",
   "execution_count": 1,
   "metadata": {},
   "outputs": [],
   "source": [
    "# Import necessary libraries and modules\n",
    "import pandas as pd\n",
    "import numpy as np\n",
    "import matplotlib.pyplot as plt\n",
    "import seaborn as sns\n",
    "%matplotlib inline"
   ]
  },
  {
   "cell_type": "markdown",
   "metadata": {},
   "source": [
    "### ***Class Creation***"
   ]
  },
  {
   "cell_type": "code",
   "execution_count": 2,
   "metadata": {},
   "outputs": [],
   "source": [
    "class DataUnderstanding():\n",
    "    \"\"\"Class that gives the data understanding of a dataset\"\"\"\n",
    "    def __init__(self, df=None):\n",
    "        \"\"\"Initialisation\"\"\"\n",
    "        if df != None:\n",
    "            self.df = df\n",
    "        \n",
    "    def load_data(self, path):\n",
    "        \"\"\"Loading the data\"\"\"\n",
    "        self.df = pd.read_csv(path, encoding='latin-1')\n",
    "        return self.df\n",
    "    \n",
    "    def understanding(self):\n",
    "        # Info\n",
    "        print(\"\"\"INFO\"\"\")\n",
    "        print(\"-\"*4)\n",
    "        self.df.info()\n",
    "        \n",
    "        # Shape\n",
    "        print(\"\"\"\\n\\nSHAPE\"\"\")\n",
    "        print(\"-\"*5)\n",
    "        print(f\"Records in dataset are {self.df.shape[0]} with {self.df.shape[1]} columns.\")\n",
    "        \n",
    "        # Columns\n",
    "        print(\"\\n\\nCOLUMNS\")\n",
    "        print(\"-\"*6)\n",
    "        print(f\"Columns in the dataset are:\")\n",
    "        for idx in self.df.columns:\n",
    "            print(f\"- {idx}\")\n",
    "        \n",
    "        # Unique Values\n",
    "        print(\"\\n\\nUNIQUE VALUES\")\n",
    "        print(\"-\"*12)\n",
    "        for col in self.df.columns:\n",
    "            print(f\"Column *{col}* has {self.df[col].nunique()} unique values\")\n",
    "            if self.df[col].nunique() != 9065:\n",
    "                print(f\"Top unique values in the *{col}* include:\")\n",
    "                for idx in self.df[col].value_counts().index:\n",
    "                    print(f\"- {idx}\")\n",
    "            print(\"\")\n",
    "            \n",
    "        # Missing or Null Values\n",
    "        print(\"\"\"\\nMISSING VALUES\"\"\")\n",
    "        print(\"-\"*15)\n",
    "        for col in self.df.columns:\n",
    "            print(f\"Column *{col}* has {self.df[col].isnull().sum()} missing values.\")\n",
    "            \n",
    "        # Duplicate Values\n",
    "        print(\"\"\"\\n\\nDUPLICATE VALUES\"\"\")\n",
    "        print(\"-\"*16)\n",
    "        print(f\"The dataset has {self.df.duplicated().sum()} duplicated records.\")"
   ]
  },
  {
   "cell_type": "markdown",
   "metadata": {},
   "source": [
    "### ***Load the data set***"
   ]
  },
  {
   "cell_type": "code",
   "execution_count": 3,
   "metadata": {},
   "outputs": [
    {
     "ename": "FileNotFoundError",
     "evalue": "[Errno 2] No such file or directory: 'judge_tweet_product_company.csv'",
     "output_type": "error",
     "traceback": [
      "\u001b[1;31m---------------------------------------------------------------------------\u001b[0m",
      "\u001b[1;31mFileNotFoundError\u001b[0m                         Traceback (most recent call last)",
      "Cell \u001b[1;32mIn[3], line 2\u001b[0m\n\u001b[0;32m      1\u001b[0m data \u001b[38;5;241m=\u001b[39m DataUnderstanding()\n\u001b[1;32m----> 2\u001b[0m df \u001b[38;5;241m=\u001b[39m data\u001b[38;5;241m.\u001b[39mload_data(path\u001b[38;5;241m=\u001b[39m\u001b[38;5;124m\"\u001b[39m\u001b[38;5;124mjudge_tweet_product_company.csv\u001b[39m\u001b[38;5;124m\"\u001b[39m)\n\u001b[0;32m      3\u001b[0m df\u001b[38;5;241m.\u001b[39mhead()\n",
      "Cell \u001b[1;32mIn[2], line 10\u001b[0m, in \u001b[0;36mDataUnderstanding.load_data\u001b[1;34m(self, path)\u001b[0m\n\u001b[0;32m      8\u001b[0m \u001b[38;5;28;01mdef\u001b[39;00m \u001b[38;5;21mload_data\u001b[39m(\u001b[38;5;28mself\u001b[39m, path):\n\u001b[0;32m      9\u001b[0m \u001b[38;5;250m    \u001b[39m\u001b[38;5;124;03m\"\"\"Loading the data\"\"\"\u001b[39;00m\n\u001b[1;32m---> 10\u001b[0m     \u001b[38;5;28mself\u001b[39m\u001b[38;5;241m.\u001b[39mdf \u001b[38;5;241m=\u001b[39m pd\u001b[38;5;241m.\u001b[39mread_csv(path, encoding\u001b[38;5;241m=\u001b[39m\u001b[38;5;124m'\u001b[39m\u001b[38;5;124mlatin-1\u001b[39m\u001b[38;5;124m'\u001b[39m)\n\u001b[0;32m     11\u001b[0m     \u001b[38;5;28;01mreturn\u001b[39;00m \u001b[38;5;28mself\u001b[39m\u001b[38;5;241m.\u001b[39mdf\n",
      "File \u001b[1;32mc:\\Users\\Hp\\anaconda3\\Lib\\site-packages\\pandas\\util\\_decorators.py:211\u001b[0m, in \u001b[0;36mdeprecate_kwarg.<locals>._deprecate_kwarg.<locals>.wrapper\u001b[1;34m(*args, **kwargs)\u001b[0m\n\u001b[0;32m    209\u001b[0m     \u001b[38;5;28;01melse\u001b[39;00m:\n\u001b[0;32m    210\u001b[0m         kwargs[new_arg_name] \u001b[38;5;241m=\u001b[39m new_arg_value\n\u001b[1;32m--> 211\u001b[0m \u001b[38;5;28;01mreturn\u001b[39;00m func(\u001b[38;5;241m*\u001b[39margs, \u001b[38;5;241m*\u001b[39m\u001b[38;5;241m*\u001b[39mkwargs)\n",
      "File \u001b[1;32mc:\\Users\\Hp\\anaconda3\\Lib\\site-packages\\pandas\\util\\_decorators.py:331\u001b[0m, in \u001b[0;36mdeprecate_nonkeyword_arguments.<locals>.decorate.<locals>.wrapper\u001b[1;34m(*args, **kwargs)\u001b[0m\n\u001b[0;32m    325\u001b[0m \u001b[38;5;28;01mif\u001b[39;00m \u001b[38;5;28mlen\u001b[39m(args) \u001b[38;5;241m>\u001b[39m num_allow_args:\n\u001b[0;32m    326\u001b[0m     warnings\u001b[38;5;241m.\u001b[39mwarn(\n\u001b[0;32m    327\u001b[0m         msg\u001b[38;5;241m.\u001b[39mformat(arguments\u001b[38;5;241m=\u001b[39m_format_argument_list(allow_args)),\n\u001b[0;32m    328\u001b[0m         \u001b[38;5;167;01mFutureWarning\u001b[39;00m,\n\u001b[0;32m    329\u001b[0m         stacklevel\u001b[38;5;241m=\u001b[39mfind_stack_level(),\n\u001b[0;32m    330\u001b[0m     )\n\u001b[1;32m--> 331\u001b[0m \u001b[38;5;28;01mreturn\u001b[39;00m func(\u001b[38;5;241m*\u001b[39margs, \u001b[38;5;241m*\u001b[39m\u001b[38;5;241m*\u001b[39mkwargs)\n",
      "File \u001b[1;32mc:\\Users\\Hp\\anaconda3\\Lib\\site-packages\\pandas\\io\\parsers\\readers.py:950\u001b[0m, in \u001b[0;36mread_csv\u001b[1;34m(filepath_or_buffer, sep, delimiter, header, names, index_col, usecols, squeeze, prefix, mangle_dupe_cols, dtype, engine, converters, true_values, false_values, skipinitialspace, skiprows, skipfooter, nrows, na_values, keep_default_na, na_filter, verbose, skip_blank_lines, parse_dates, infer_datetime_format, keep_date_col, date_parser, dayfirst, cache_dates, iterator, chunksize, compression, thousands, decimal, lineterminator, quotechar, quoting, doublequote, escapechar, comment, encoding, encoding_errors, dialect, error_bad_lines, warn_bad_lines, on_bad_lines, delim_whitespace, low_memory, memory_map, float_precision, storage_options)\u001b[0m\n\u001b[0;32m    935\u001b[0m kwds_defaults \u001b[38;5;241m=\u001b[39m _refine_defaults_read(\n\u001b[0;32m    936\u001b[0m     dialect,\n\u001b[0;32m    937\u001b[0m     delimiter,\n\u001b[1;32m   (...)\u001b[0m\n\u001b[0;32m    946\u001b[0m     defaults\u001b[38;5;241m=\u001b[39m{\u001b[38;5;124m\"\u001b[39m\u001b[38;5;124mdelimiter\u001b[39m\u001b[38;5;124m\"\u001b[39m: \u001b[38;5;124m\"\u001b[39m\u001b[38;5;124m,\u001b[39m\u001b[38;5;124m\"\u001b[39m},\n\u001b[0;32m    947\u001b[0m )\n\u001b[0;32m    948\u001b[0m kwds\u001b[38;5;241m.\u001b[39mupdate(kwds_defaults)\n\u001b[1;32m--> 950\u001b[0m \u001b[38;5;28;01mreturn\u001b[39;00m _read(filepath_or_buffer, kwds)\n",
      "File \u001b[1;32mc:\\Users\\Hp\\anaconda3\\Lib\\site-packages\\pandas\\io\\parsers\\readers.py:605\u001b[0m, in \u001b[0;36m_read\u001b[1;34m(filepath_or_buffer, kwds)\u001b[0m\n\u001b[0;32m    602\u001b[0m _validate_names(kwds\u001b[38;5;241m.\u001b[39mget(\u001b[38;5;124m\"\u001b[39m\u001b[38;5;124mnames\u001b[39m\u001b[38;5;124m\"\u001b[39m, \u001b[38;5;28;01mNone\u001b[39;00m))\n\u001b[0;32m    604\u001b[0m \u001b[38;5;66;03m# Create the parser.\u001b[39;00m\n\u001b[1;32m--> 605\u001b[0m parser \u001b[38;5;241m=\u001b[39m TextFileReader(filepath_or_buffer, \u001b[38;5;241m*\u001b[39m\u001b[38;5;241m*\u001b[39mkwds)\n\u001b[0;32m    607\u001b[0m \u001b[38;5;28;01mif\u001b[39;00m chunksize \u001b[38;5;129;01mor\u001b[39;00m iterator:\n\u001b[0;32m    608\u001b[0m     \u001b[38;5;28;01mreturn\u001b[39;00m parser\n",
      "File \u001b[1;32mc:\\Users\\Hp\\anaconda3\\Lib\\site-packages\\pandas\\io\\parsers\\readers.py:1442\u001b[0m, in \u001b[0;36mTextFileReader.__init__\u001b[1;34m(self, f, engine, **kwds)\u001b[0m\n\u001b[0;32m   1439\u001b[0m     \u001b[38;5;28mself\u001b[39m\u001b[38;5;241m.\u001b[39moptions[\u001b[38;5;124m\"\u001b[39m\u001b[38;5;124mhas_index_names\u001b[39m\u001b[38;5;124m\"\u001b[39m] \u001b[38;5;241m=\u001b[39m kwds[\u001b[38;5;124m\"\u001b[39m\u001b[38;5;124mhas_index_names\u001b[39m\u001b[38;5;124m\"\u001b[39m]\n\u001b[0;32m   1441\u001b[0m \u001b[38;5;28mself\u001b[39m\u001b[38;5;241m.\u001b[39mhandles: IOHandles \u001b[38;5;241m|\u001b[39m \u001b[38;5;28;01mNone\u001b[39;00m \u001b[38;5;241m=\u001b[39m \u001b[38;5;28;01mNone\u001b[39;00m\n\u001b[1;32m-> 1442\u001b[0m \u001b[38;5;28mself\u001b[39m\u001b[38;5;241m.\u001b[39m_engine \u001b[38;5;241m=\u001b[39m \u001b[38;5;28mself\u001b[39m\u001b[38;5;241m.\u001b[39m_make_engine(f, \u001b[38;5;28mself\u001b[39m\u001b[38;5;241m.\u001b[39mengine)\n",
      "File \u001b[1;32mc:\\Users\\Hp\\anaconda3\\Lib\\site-packages\\pandas\\io\\parsers\\readers.py:1735\u001b[0m, in \u001b[0;36mTextFileReader._make_engine\u001b[1;34m(self, f, engine)\u001b[0m\n\u001b[0;32m   1733\u001b[0m     \u001b[38;5;28;01mif\u001b[39;00m \u001b[38;5;124m\"\u001b[39m\u001b[38;5;124mb\u001b[39m\u001b[38;5;124m\"\u001b[39m \u001b[38;5;129;01mnot\u001b[39;00m \u001b[38;5;129;01min\u001b[39;00m mode:\n\u001b[0;32m   1734\u001b[0m         mode \u001b[38;5;241m+\u001b[39m\u001b[38;5;241m=\u001b[39m \u001b[38;5;124m\"\u001b[39m\u001b[38;5;124mb\u001b[39m\u001b[38;5;124m\"\u001b[39m\n\u001b[1;32m-> 1735\u001b[0m \u001b[38;5;28mself\u001b[39m\u001b[38;5;241m.\u001b[39mhandles \u001b[38;5;241m=\u001b[39m get_handle(\n\u001b[0;32m   1736\u001b[0m     f,\n\u001b[0;32m   1737\u001b[0m     mode,\n\u001b[0;32m   1738\u001b[0m     encoding\u001b[38;5;241m=\u001b[39m\u001b[38;5;28mself\u001b[39m\u001b[38;5;241m.\u001b[39moptions\u001b[38;5;241m.\u001b[39mget(\u001b[38;5;124m\"\u001b[39m\u001b[38;5;124mencoding\u001b[39m\u001b[38;5;124m\"\u001b[39m, \u001b[38;5;28;01mNone\u001b[39;00m),\n\u001b[0;32m   1739\u001b[0m     compression\u001b[38;5;241m=\u001b[39m\u001b[38;5;28mself\u001b[39m\u001b[38;5;241m.\u001b[39moptions\u001b[38;5;241m.\u001b[39mget(\u001b[38;5;124m\"\u001b[39m\u001b[38;5;124mcompression\u001b[39m\u001b[38;5;124m\"\u001b[39m, \u001b[38;5;28;01mNone\u001b[39;00m),\n\u001b[0;32m   1740\u001b[0m     memory_map\u001b[38;5;241m=\u001b[39m\u001b[38;5;28mself\u001b[39m\u001b[38;5;241m.\u001b[39moptions\u001b[38;5;241m.\u001b[39mget(\u001b[38;5;124m\"\u001b[39m\u001b[38;5;124mmemory_map\u001b[39m\u001b[38;5;124m\"\u001b[39m, \u001b[38;5;28;01mFalse\u001b[39;00m),\n\u001b[0;32m   1741\u001b[0m     is_text\u001b[38;5;241m=\u001b[39mis_text,\n\u001b[0;32m   1742\u001b[0m     errors\u001b[38;5;241m=\u001b[39m\u001b[38;5;28mself\u001b[39m\u001b[38;5;241m.\u001b[39moptions\u001b[38;5;241m.\u001b[39mget(\u001b[38;5;124m\"\u001b[39m\u001b[38;5;124mencoding_errors\u001b[39m\u001b[38;5;124m\"\u001b[39m, \u001b[38;5;124m\"\u001b[39m\u001b[38;5;124mstrict\u001b[39m\u001b[38;5;124m\"\u001b[39m),\n\u001b[0;32m   1743\u001b[0m     storage_options\u001b[38;5;241m=\u001b[39m\u001b[38;5;28mself\u001b[39m\u001b[38;5;241m.\u001b[39moptions\u001b[38;5;241m.\u001b[39mget(\u001b[38;5;124m\"\u001b[39m\u001b[38;5;124mstorage_options\u001b[39m\u001b[38;5;124m\"\u001b[39m, \u001b[38;5;28;01mNone\u001b[39;00m),\n\u001b[0;32m   1744\u001b[0m )\n\u001b[0;32m   1745\u001b[0m \u001b[38;5;28;01massert\u001b[39;00m \u001b[38;5;28mself\u001b[39m\u001b[38;5;241m.\u001b[39mhandles \u001b[38;5;129;01mis\u001b[39;00m \u001b[38;5;129;01mnot\u001b[39;00m \u001b[38;5;28;01mNone\u001b[39;00m\n\u001b[0;32m   1746\u001b[0m f \u001b[38;5;241m=\u001b[39m \u001b[38;5;28mself\u001b[39m\u001b[38;5;241m.\u001b[39mhandles\u001b[38;5;241m.\u001b[39mhandle\n",
      "File \u001b[1;32mc:\\Users\\Hp\\anaconda3\\Lib\\site-packages\\pandas\\io\\common.py:856\u001b[0m, in \u001b[0;36mget_handle\u001b[1;34m(path_or_buf, mode, encoding, compression, memory_map, is_text, errors, storage_options)\u001b[0m\n\u001b[0;32m    851\u001b[0m \u001b[38;5;28;01melif\u001b[39;00m \u001b[38;5;28misinstance\u001b[39m(handle, \u001b[38;5;28mstr\u001b[39m):\n\u001b[0;32m    852\u001b[0m     \u001b[38;5;66;03m# Check whether the filename is to be opened in binary mode.\u001b[39;00m\n\u001b[0;32m    853\u001b[0m     \u001b[38;5;66;03m# Binary mode does not support 'encoding' and 'newline'.\u001b[39;00m\n\u001b[0;32m    854\u001b[0m     \u001b[38;5;28;01mif\u001b[39;00m ioargs\u001b[38;5;241m.\u001b[39mencoding \u001b[38;5;129;01mand\u001b[39;00m \u001b[38;5;124m\"\u001b[39m\u001b[38;5;124mb\u001b[39m\u001b[38;5;124m\"\u001b[39m \u001b[38;5;129;01mnot\u001b[39;00m \u001b[38;5;129;01min\u001b[39;00m ioargs\u001b[38;5;241m.\u001b[39mmode:\n\u001b[0;32m    855\u001b[0m         \u001b[38;5;66;03m# Encoding\u001b[39;00m\n\u001b[1;32m--> 856\u001b[0m         handle \u001b[38;5;241m=\u001b[39m \u001b[38;5;28mopen\u001b[39m(\n\u001b[0;32m    857\u001b[0m             handle,\n\u001b[0;32m    858\u001b[0m             ioargs\u001b[38;5;241m.\u001b[39mmode,\n\u001b[0;32m    859\u001b[0m             encoding\u001b[38;5;241m=\u001b[39mioargs\u001b[38;5;241m.\u001b[39mencoding,\n\u001b[0;32m    860\u001b[0m             errors\u001b[38;5;241m=\u001b[39merrors,\n\u001b[0;32m    861\u001b[0m             newline\u001b[38;5;241m=\u001b[39m\u001b[38;5;124m\"\u001b[39m\u001b[38;5;124m\"\u001b[39m,\n\u001b[0;32m    862\u001b[0m         )\n\u001b[0;32m    863\u001b[0m     \u001b[38;5;28;01melse\u001b[39;00m:\n\u001b[0;32m    864\u001b[0m         \u001b[38;5;66;03m# Binary mode\u001b[39;00m\n\u001b[0;32m    865\u001b[0m         handle \u001b[38;5;241m=\u001b[39m \u001b[38;5;28mopen\u001b[39m(handle, ioargs\u001b[38;5;241m.\u001b[39mmode)\n",
      "\u001b[1;31mFileNotFoundError\u001b[0m: [Errno 2] No such file or directory: 'judge_tweet_product_company.csv'"
     ]
    }
   ],
   "source": [
    "data = DataUnderstanding()\n",
    "df = data.load_data(path=\"judge_tweet_product_company.csv\")\n",
    "df.head()"
   ]
  },
  {
   "cell_type": "code",
   "execution_count": null,
   "metadata": {},
   "outputs": [],
   "source": [
    "data.understanding()"
   ]
  },
  {
   "cell_type": "markdown",
   "metadata": {},
   "source": [
    "Comments:\n",
    "- All the columns are in the correct format\n",
    "\n",
    "- The columns names will need to be changed\n",
    "\n",
    "- Features with missing values should be renamed from NaN\n",
    "\n",
    "- Duplicate records should be dropped\n",
    "\n",
    "- All records with the target as \"I can't tell\" should be dropped"
   ]
  },
  {
   "cell_type": "code",
   "execution_count": null,
   "metadata": {},
   "outputs": [
    {
     "data": {
      "image/png": "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",
      "text/plain": [
       "<Figure size 640x480 with 1 Axes>"
      ]
     },
     "metadata": {},
     "output_type": "display_data"
    }
   ],
   "source": [
    "#Countplot for 3rd column\n",
    "\n",
    "ax = sns.countplot(x='is_there_an_emotion_directed_at_a_brand_or_product', data=df, color='black')\n",
    "ax.set_xticklabels(ax.get_xticklabels(), rotation=90);"
   ]
  },
  {
   "cell_type": "code",
   "execution_count": null,
   "metadata": {},
   "outputs": [],
   "source": []
  }
 ],
 "metadata": {
  "kernelspec": {
   "display_name": "base",
   "language": "python",
   "name": "python3"
  },
  "language_info": {
   "codemirror_mode": {
    "name": "ipython",
    "version": 3
   },
   "file_extension": ".py",
   "mimetype": "text/x-python",
   "name": "python",
   "nbconvert_exporter": "python",
   "pygments_lexer": "ipython3",
   "version": "3.11.7"
  }
 },
 "nbformat": 4,
 "nbformat_minor": 2
}
