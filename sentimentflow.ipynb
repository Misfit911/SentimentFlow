{
 "cells": [
  {
   "cell_type": "markdown",
   "metadata": {},
   "source": [
    "## 1. **Business Understanding**\n",
    "\n",
    "### Overview\n",
    "\n",
    "SentimentFlow aims to address a real-world problem related to understanding public sentiment towards Apple and Google products on Twitter. The stakeholders include companies, marketing teams, and decision-makers who want to gauge public opinion and make informed strategic decisions based on social media sentiment.\n",
    "\n",
    "### Problem Statement\n",
    "\n",
    "The problem is to accurately classify the sentiment of tweets related to Apple and Google products. We want to determine whether a tweet expresses a positive, negative, or neutral sentiment. This classification can help companies understand customer satisfaction, identify potential issues, and tailor their responses accordingly.\n",
    "\n",
    "### Stakeholders\n",
    "\n",
    "1. **Companies (Apple and Google):** These organizations are directly impacted by public sentiment. They want to monitor how their products are perceived and identify areas for improvement.\n",
    "\n",
    "2. **Marketing Teams:** Marketing teams can use sentiment analysis to adjust their campaigns, respond to negative feedback, and highlight positive aspects of their products.\n",
    "\n",
    "3. **Decision-Makers:** Executives and managers need insights into public sentiment to make informed decisions about product development, customer support, and brand reputation.\n",
    "\n",
    "### Value Proposition\n",
    "\n",
    "By accurately classifying tweets, our NLP model can provide actionable insights to stakeholders. For example:\n",
    "- Identifying negative sentiment can help companies address issues promptly.\n",
    "- Recognizing positive sentiment can guide marketing efforts and reinforce successful strategies.\n",
    "- Understanding neutral sentiment can provide context and balance.\n",
    "\n",
    "### Objectives\n",
    "\n",
    "Main Objective\n",
    "\n",
    "> To develop a NLP (Natural Language Processing) multiclass classification model for sentiment analysis, aim to achieve a recall score of 85% and an accuracy of 90%. The model should categorize sentiments into three classes: Positive, Negative, and Neutral.\n",
    "\n",
    "Specific Objectives\n",
    "\n",
    "* To idenitfy the most common words used in the dataset using Word cloud.\n",
    "\n",
    "* To confirm the most common words that are positively and negatively tagged.\n",
    "\n",
    "* To recognize the products that have been opined by the users.\n",
    "\n",
    "* To spot the distribution of the sentiments.\n",
    "\n",
    "### Conclusion\n",
    "\n",
    "Our NLP model will contribute valuable insights to the real-world problem of understanding Twitter sentiment about Apple and Google products. Stakeholders can leverage this information to enhance their decision-making processes and improve overall customer satisfaction."
   ]
  },
  {
   "cell_type": "markdown",
   "metadata": {},
   "source": [
    "## 2. **Data Understanding**\n",
    "\n",
    "### Data Sources\n",
    "The dataset originates from CrowdFlower via data.world. Contributors evaluated tweets related to various brands and products. Specifically:\n",
    "- Each tweet was labeled as expressing positive, negative, or no emotion toward a brand or product.\n",
    "- If emotion was expressed, contributors specified which brand or product was the target.\n",
    "\n",
    "### Suitability of Data\n",
    "Here's why this dataset is suitable for our project:\n",
    "1. **Relevance:** The data directly aligns with our business problem of understanding Twitter sentiment for Apple and Google products.\n",
    "2. **Real-World Context:** The tweets represent actual user opinions, making the problem relevant in practice.\n",
    "3. **Multiclass Labels:** We can build both binary (positive/negative) and multiclass (positive/negative/neutral) classifiers using this data.\n",
    "\n",
    "### Dataset Size\n",
    "The dataset contains over 9,000 labeled tweets. We'll explore its features to gain insights.\n",
    "\n",
    "### Descriptive Statistics\n",
    "- **tweet_text:** The content of each tweet.\n",
    "- **is_there_an_emotion_directed_at_a_brand_or_product:** No emotion toward brand or product, Positive emotion, Negative emotion, I can't tell\n",
    "- **emotion_in_tweet_is_directed_at:** The brand or product mentioned in the tweet.\n",
    "\n",
    "### Feature Inclusion\n",
    "Tweet text is the primary feature. The emotion label and target brand/product are essential for classification.\n",
    "\n",
    "### Limitations\n",
    "- **Label Noise:** Human raters' subjectivity may introduce noise.\n",
    "- **Imbalanced Classes:** We'll address class imbalance during modeling.\n",
    "- **Contextual Challenges:** Tweets are often short and context-dependent.\n",
    "- **Incomplete & Missing Data:** Could affect the overall performance of the models."
   ]
  },
  {
   "cell_type": "markdown",
   "metadata": {},
   "source": [
    "## 3. **Data Loading**"
   ]
  },
  {
   "cell_type": "code",
   "execution_count": 1,
   "metadata": {},
   "outputs": [],
   "source": [
    "# Import necessary libraries and modules\n",
    "import pandas as pd\n",
    "import numpy as np\n",
    "import matplotlib.pyplot as plt\n",
    "import seaborn as sns\n",
    "%matplotlib inline"
   ]
  },
  {
   "cell_type": "markdown",
   "metadata": {},
   "source": [
    "### ***Class Creation***"
   ]
  },
  {
   "cell_type": "code",
   "execution_count": 281,
   "metadata": {},
   "outputs": [],
   "source": [
    "class DataUnderstanding():\n",
    "    \"\"\"Class that gives the data understanding of a dataset\"\"\"\n",
    "    def __init__(self, data='None'):\n",
    "        \"\"\"Initialisation\"\"\"\n",
    "        self.df = data\n",
    "        \n",
    "    def load_data(self, path):\n",
    "        \"\"\"Loading the data\"\"\"\n",
    "        if self.df == 'None':\n",
    "            self.df = pd.read_csv(path, encoding='latin-1')\n",
    "        return self.df\n",
    "    \n",
    "    def understanding(self):\n",
    "        # Info\n",
    "        print(\"\"\"INFO\"\"\")\n",
    "        print(\"-\"*4)\n",
    "        self.df.info()\n",
    "        \n",
    "        # Shape\n",
    "        print(\"\"\"\\n\\nSHAPE\"\"\")\n",
    "        print(\"-\"*5)\n",
    "        print(f\"Records in dataset are {self.df.shape[0]} with {self.df.shape[1]} columns.\")\n",
    "        \n",
    "        # Columns\n",
    "        print(\"\\n\\nCOLUMNS\")\n",
    "        print(\"-\"*6)\n",
    "        print(f\"Columns in the dataset are:\")\n",
    "        for idx in self.df.columns:\n",
    "            print(f\"- {idx}\")\n",
    "        \n",
    "        # Unique Values\n",
    "        print(\"\\n\\nUNIQUE VALUES\")\n",
    "        print(\"-\"*12)\n",
    "        for col in self.df.columns:\n",
    "            print(f\"Column *{col}* has {self.df[col].nunique()} unique values\")\n",
    "            if self.df[col].nunique() < 10:\n",
    "                print(f\"Top unique values in the *{col}* include:\")\n",
    "                for idx in self.df[col].value_counts().index:\n",
    "                    print(f\"- {idx}\")\n",
    "            print(\"\")\n",
    "            \n",
    "        # Missing or Null Values\n",
    "        print(\"\"\"\\nMISSING VALUES\"\"\")\n",
    "        print(\"-\"*15)\n",
    "        for col in self.df.columns:\n",
    "            print(f\"Column *{col}* has {self.df[col].isnull().sum()} missing values.\")\n",
    "            \n",
    "        # Duplicate Values\n",
    "        print(\"\"\"\\n\\nDUPLICATE VALUES\"\"\")\n",
    "        print(\"-\"*16)\n",
    "        print(f\"The dataset has {self.df.duplicated().sum()} duplicated records.\")"
   ]
  },
  {
   "cell_type": "markdown",
   "metadata": {},
   "source": [
    "### ***Load the data set***"
   ]
  },
  {
   "cell_type": "code",
   "execution_count": 282,
   "metadata": {},
   "outputs": [
    {
     "data": {
      "text/html": [
       "<div>\n",
       "<style scoped>\n",
       "    .dataframe tbody tr th:only-of-type {\n",
       "        vertical-align: middle;\n",
       "    }\n",
       "\n",
       "    .dataframe tbody tr th {\n",
       "        vertical-align: top;\n",
       "    }\n",
       "\n",
       "    .dataframe thead th {\n",
       "        text-align: right;\n",
       "    }\n",
       "</style>\n",
       "<table border=\"1\" class=\"dataframe\">\n",
       "  <thead>\n",
       "    <tr style=\"text-align: right;\">\n",
       "      <th></th>\n",
       "      <th>tweet_text</th>\n",
       "      <th>emotion_in_tweet_is_directed_at</th>\n",
       "      <th>is_there_an_emotion_directed_at_a_brand_or_product</th>\n",
       "    </tr>\n",
       "  </thead>\n",
       "  <tbody>\n",
       "    <tr>\n",
       "      <th>0</th>\n",
       "      <td>.@wesley83 I have a 3G iPhone. After 3 hrs twe...</td>\n",
       "      <td>iPhone</td>\n",
       "      <td>Negative emotion</td>\n",
       "    </tr>\n",
       "    <tr>\n",
       "      <th>1</th>\n",
       "      <td>@jessedee Know about @fludapp ? Awesome iPad/i...</td>\n",
       "      <td>iPad or iPhone App</td>\n",
       "      <td>Positive emotion</td>\n",
       "    </tr>\n",
       "    <tr>\n",
       "      <th>2</th>\n",
       "      <td>@swonderlin Can not wait for #iPad 2 also. The...</td>\n",
       "      <td>iPad</td>\n",
       "      <td>Positive emotion</td>\n",
       "    </tr>\n",
       "    <tr>\n",
       "      <th>3</th>\n",
       "      <td>@sxsw I hope this year's festival isn't as cra...</td>\n",
       "      <td>iPad or iPhone App</td>\n",
       "      <td>Negative emotion</td>\n",
       "    </tr>\n",
       "    <tr>\n",
       "      <th>4</th>\n",
       "      <td>@sxtxstate great stuff on Fri #SXSW: Marissa M...</td>\n",
       "      <td>Google</td>\n",
       "      <td>Positive emotion</td>\n",
       "    </tr>\n",
       "  </tbody>\n",
       "</table>\n",
       "</div>"
      ],
      "text/plain": [
       "                                          tweet_text  \\\n",
       "0  .@wesley83 I have a 3G iPhone. After 3 hrs twe...   \n",
       "1  @jessedee Know about @fludapp ? Awesome iPad/i...   \n",
       "2  @swonderlin Can not wait for #iPad 2 also. The...   \n",
       "3  @sxsw I hope this year's festival isn't as cra...   \n",
       "4  @sxtxstate great stuff on Fri #SXSW: Marissa M...   \n",
       "\n",
       "  emotion_in_tweet_is_directed_at  \\\n",
       "0                          iPhone   \n",
       "1              iPad or iPhone App   \n",
       "2                            iPad   \n",
       "3              iPad or iPhone App   \n",
       "4                          Google   \n",
       "\n",
       "  is_there_an_emotion_directed_at_a_brand_or_product  \n",
       "0                                   Negative emotion  \n",
       "1                                   Positive emotion  \n",
       "2                                   Positive emotion  \n",
       "3                                   Negative emotion  \n",
       "4                                   Positive emotion  "
      ]
     },
     "execution_count": 282,
     "metadata": {},
     "output_type": "execute_result"
    }
   ],
   "source": [
    "data = DataUnderstanding()\n",
    "df = data.load_data(path=\"judge_tweet_product_company.csv\")\n",
    "df.head()"
   ]
  },
  {
   "cell_type": "code",
   "execution_count": 4,
   "metadata": {},
   "outputs": [
    {
     "name": "stdout",
     "output_type": "stream",
     "text": [
      "INFO\n",
      "----\n",
      "<class 'pandas.core.frame.DataFrame'>\n",
      "RangeIndex: 9093 entries, 0 to 9092\n",
      "Data columns (total 3 columns):\n",
      " #   Column                                              Non-Null Count  Dtype \n",
      "---  ------                                              --------------  ----- \n",
      " 0   tweet_text                                          9092 non-null   object\n",
      " 1   emotion_in_tweet_is_directed_at                     3291 non-null   object\n",
      " 2   is_there_an_emotion_directed_at_a_brand_or_product  9093 non-null   object\n",
      "dtypes: object(3)\n",
      "memory usage: 213.2+ KB\n",
      "\n",
      "\n",
      "SHAPE\n",
      "-----\n",
      "Records in dataset are 9093 with 3 columns.\n",
      "\n",
      "\n",
      "COLUMNS\n",
      "------\n",
      "Columns in the dataset are:\n",
      "- tweet_text\n",
      "- emotion_in_tweet_is_directed_at\n",
      "- is_there_an_emotion_directed_at_a_brand_or_product\n",
      "\n",
      "\n",
      "UNIQUE VALUES\n",
      "------------\n",
      "Column *tweet_text* has 9065 unique values\n",
      "\n",
      "Column *emotion_in_tweet_is_directed_at* has 9 unique values\n",
      "Top unique values in the *emotion_in_tweet_is_directed_at* include:\n",
      "- iPad\n",
      "- Apple\n",
      "- iPad or iPhone App\n",
      "- Google\n",
      "- iPhone\n",
      "- Other Google product or service\n",
      "- Android App\n",
      "- Android\n",
      "- Other Apple product or service\n",
      "\n",
      "Column *is_there_an_emotion_directed_at_a_brand_or_product* has 4 unique values\n",
      "Top unique values in the *is_there_an_emotion_directed_at_a_brand_or_product* include:\n",
      "- No emotion toward brand or product\n",
      "- Positive emotion\n",
      "- Negative emotion\n",
      "- I can't tell\n",
      "\n",
      "\n",
      "MISSING VALUES\n",
      "---------------\n",
      "Column *tweet_text* has 1 missing values.\n",
      "Column *emotion_in_tweet_is_directed_at* has 5802 missing values.\n",
      "Column *is_there_an_emotion_directed_at_a_brand_or_product* has 0 missing values.\n",
      "\n",
      "\n",
      "DUPLICATE VALUES\n",
      "----------------\n",
      "The dataset has 22 duplicated records.\n"
     ]
    }
   ],
   "source": [
    "data.understanding()"
   ]
  },
  {
   "cell_type": "markdown",
   "metadata": {},
   "source": [
    "Comments:\n",
    "- All the columns are in the correct format\n",
    "\n",
    "- The columns names will need to be changed\n",
    "\n",
    "- Features with missing values should be renamed from NaN\n",
    "\n",
    "- Duplicate records should be dropped\n",
    "\n",
    "- All records with the target as \"I can't tell\" should be dropped"
   ]
  },
  {
   "cell_type": "markdown",
   "metadata": {},
   "source": [
    "## 4.0 Data Cleaning\n",
    "\n",
    "### 4.1. Validity\n",
    "\n",
    "#### 4.1.1 Corrupted Records in the *tweet_text* Column\n",
    "\n",
    "The data seems to be corrupted in some records. To correct this issue, we create a function that can find these corrupted records, and returns their indexes. We use this index to remove the record from the working dataframe."
   ]
  },
  {
   "cell_type": "code",
   "execution_count": 283,
   "metadata": {},
   "outputs": [],
   "source": [
    "# A function targeting corrupted records\n",
    "def is_corrupted(tweet):\n",
    "    \"\"\"This func returns the index of any record that is corrupted\"\"\"\n",
    "    corrupted_cols = []\n",
    "    for key, text in enumerate(tweet):\n",
    "        if any(ord(char) > 127 for char in str(text)) == True:\n",
    "            corrupted_cols.append(key)\n",
    "    return corrupted_cols"
   ]
  },
  {
   "cell_type": "code",
   "execution_count": 284,
   "metadata": {},
   "outputs": [],
   "source": [
    "# Applying the is_corrupted function to find the indexes of the corrupted records\n",
    "corrupted_records_idx = is_corrupted(df['tweet_text'])"
   ]
  },
  {
   "cell_type": "code",
   "execution_count": 285,
   "metadata": {},
   "outputs": [
    {
     "data": {
      "text/plain": [
       "'@mention  - False Alarm: Google Circles Not Coming Now\\x89ÛÒand Probably Not Ever? - {link} #Google #Circles #Social #SXSW'"
      ]
     },
     "execution_count": 285,
     "metadata": {},
     "output_type": "execute_result"
    }
   ],
   "source": [
    "# Test to check if the function worked as intended\n",
    "df.loc[corrupted_records_idx]['tweet_text'].values[0]"
   ]
  },
  {
   "cell_type": "code",
   "execution_count": 286,
   "metadata": {},
   "outputs": [],
   "source": [
    "# Drop these records \n",
    "df.drop(index=corrupted_records_idx, inplace=True)"
   ]
  },
  {
   "cell_type": "code",
   "execution_count": 287,
   "metadata": {},
   "outputs": [
    {
     "data": {
      "text/plain": [
       "[]"
      ]
     },
     "execution_count": 287,
     "metadata": {},
     "output_type": "execute_result"
    }
   ],
   "source": [
    "# Test to ensure there are no corrupted records left\n",
    "is_corrupted(df['tweet_text'])"
   ]
  },
  {
   "cell_type": "markdown",
   "metadata": {},
   "source": [
    "#### 4.1.2. Drop Records where there emotion is not positive, negative or neutral"
   ]
  },
  {
   "cell_type": "code",
   "execution_count": 288,
   "metadata": {},
   "outputs": [
    {
     "data": {
      "text/html": [
       "<div>\n",
       "<style scoped>\n",
       "    .dataframe tbody tr th:only-of-type {\n",
       "        vertical-align: middle;\n",
       "    }\n",
       "\n",
       "    .dataframe tbody tr th {\n",
       "        vertical-align: top;\n",
       "    }\n",
       "\n",
       "    .dataframe thead th {\n",
       "        text-align: right;\n",
       "    }\n",
       "</style>\n",
       "<table border=\"1\" class=\"dataframe\">\n",
       "  <thead>\n",
       "    <tr style=\"text-align: right;\">\n",
       "      <th></th>\n",
       "      <th>tweet_text</th>\n",
       "      <th>emotion_in_tweet_is_directed_at</th>\n",
       "      <th>is_there_an_emotion_directed_at_a_brand_or_product</th>\n",
       "    </tr>\n",
       "  </thead>\n",
       "  <tbody>\n",
       "  </tbody>\n",
       "</table>\n",
       "</div>"
      ],
      "text/plain": [
       "Empty DataFrame\n",
       "Columns: [tweet_text, emotion_in_tweet_is_directed_at, is_there_an_emotion_directed_at_a_brand_or_product]\n",
       "Index: []"
      ]
     },
     "execution_count": 288,
     "metadata": {},
     "output_type": "execute_result"
    }
   ],
   "source": [
    "# Identification of the record\n",
    "bad_reaction_idx = df[df['is_there_an_emotion_directed_at_a_brand_or_product'] == \"I can't tell\"].index\n",
    "\n",
    "# Drop the columns\n",
    "df.drop(index = bad_reaction_idx, inplace=True)\n",
    "\n",
    "# Test\n",
    "df[df['is_there_an_emotion_directed_at_a_brand_or_product'] == \"I can't tell\"]"
   ]
  },
  {
   "cell_type": "markdown",
   "metadata": {},
   "source": [
    "### 4.2. Completeness"
   ]
  },
  {
   "cell_type": "markdown",
   "metadata": {},
   "source": [
    "#### 4.2.1. Missing Values in the **tweet_text** column"
   ]
  },
  {
   "cell_type": "code",
   "execution_count": 289,
   "metadata": {},
   "outputs": [
    {
     "data": {
      "text/html": [
       "<div>\n",
       "<style scoped>\n",
       "    .dataframe tbody tr th:only-of-type {\n",
       "        vertical-align: middle;\n",
       "    }\n",
       "\n",
       "    .dataframe tbody tr th {\n",
       "        vertical-align: top;\n",
       "    }\n",
       "\n",
       "    .dataframe thead th {\n",
       "        text-align: right;\n",
       "    }\n",
       "</style>\n",
       "<table border=\"1\" class=\"dataframe\">\n",
       "  <thead>\n",
       "    <tr style=\"text-align: right;\">\n",
       "      <th></th>\n",
       "      <th>tweet_text</th>\n",
       "      <th>emotion_in_tweet_is_directed_at</th>\n",
       "      <th>is_there_an_emotion_directed_at_a_brand_or_product</th>\n",
       "    </tr>\n",
       "  </thead>\n",
       "  <tbody>\n",
       "    <tr>\n",
       "      <th>6</th>\n",
       "      <td>NaN</td>\n",
       "      <td>NaN</td>\n",
       "      <td>No emotion toward brand or product</td>\n",
       "    </tr>\n",
       "  </tbody>\n",
       "</table>\n",
       "</div>"
      ],
      "text/plain": [
       "  tweet_text emotion_in_tweet_is_directed_at  \\\n",
       "6        NaN                             NaN   \n",
       "\n",
       "  is_there_an_emotion_directed_at_a_brand_or_product  \n",
       "6                 No emotion toward brand or product  "
      ]
     },
     "execution_count": 289,
     "metadata": {},
     "output_type": "execute_result"
    }
   ],
   "source": [
    "tweet_missing = df[df['tweet_text'].isnull() == True].index\n",
    "df.loc[tweet_missing]"
   ]
  },
  {
   "cell_type": "code",
   "execution_count": 290,
   "metadata": {},
   "outputs": [],
   "source": [
    "# Drop the record\n",
    "df.drop(index=tweet_missing, inplace=True)"
   ]
  },
  {
   "cell_type": "code",
   "execution_count": 291,
   "metadata": {},
   "outputs": [
    {
     "data": {
      "text/html": [
       "<div>\n",
       "<style scoped>\n",
       "    .dataframe tbody tr th:only-of-type {\n",
       "        vertical-align: middle;\n",
       "    }\n",
       "\n",
       "    .dataframe tbody tr th {\n",
       "        vertical-align: top;\n",
       "    }\n",
       "\n",
       "    .dataframe thead th {\n",
       "        text-align: right;\n",
       "    }\n",
       "</style>\n",
       "<table border=\"1\" class=\"dataframe\">\n",
       "  <thead>\n",
       "    <tr style=\"text-align: right;\">\n",
       "      <th></th>\n",
       "      <th>tweet_text</th>\n",
       "      <th>emotion_in_tweet_is_directed_at</th>\n",
       "      <th>is_there_an_emotion_directed_at_a_brand_or_product</th>\n",
       "    </tr>\n",
       "  </thead>\n",
       "  <tbody>\n",
       "  </tbody>\n",
       "</table>\n",
       "</div>"
      ],
      "text/plain": [
       "Empty DataFrame\n",
       "Columns: [tweet_text, emotion_in_tweet_is_directed_at, is_there_an_emotion_directed_at_a_brand_or_product]\n",
       "Index: []"
      ]
     },
     "execution_count": 291,
     "metadata": {},
     "output_type": "execute_result"
    }
   ],
   "source": [
    "# Check\n",
    "df[df['tweet_text'].isnull() == True]"
   ]
  },
  {
   "cell_type": "markdown",
   "metadata": {},
   "source": [
    "#### 4.2.2. Missing Values in the **emotion_in_tweet_is_directed_at** column"
   ]
  },
  {
   "cell_type": "code",
   "execution_count": 292,
   "metadata": {},
   "outputs": [
    {
     "data": {
      "text/html": [
       "<div>\n",
       "<style scoped>\n",
       "    .dataframe tbody tr th:only-of-type {\n",
       "        vertical-align: middle;\n",
       "    }\n",
       "\n",
       "    .dataframe tbody tr th {\n",
       "        vertical-align: top;\n",
       "    }\n",
       "\n",
       "    .dataframe thead th {\n",
       "        text-align: right;\n",
       "    }\n",
       "</style>\n",
       "<table border=\"1\" class=\"dataframe\">\n",
       "  <thead>\n",
       "    <tr style=\"text-align: right;\">\n",
       "      <th></th>\n",
       "      <th>tweet_text</th>\n",
       "      <th>emotion_in_tweet_is_directed_at</th>\n",
       "      <th>is_there_an_emotion_directed_at_a_brand_or_product</th>\n",
       "    </tr>\n",
       "  </thead>\n",
       "  <tbody>\n",
       "    <tr>\n",
       "      <th>5</th>\n",
       "      <td>@teachntech00 New iPad Apps For #SpeechTherapy...</td>\n",
       "      <td>NaN</td>\n",
       "      <td>No emotion toward brand or product</td>\n",
       "    </tr>\n",
       "    <tr>\n",
       "      <th>16</th>\n",
       "      <td>Holler Gram for iPad on the iTunes App Store -...</td>\n",
       "      <td>NaN</td>\n",
       "      <td>No emotion toward brand or product</td>\n",
       "    </tr>\n",
       "    <tr>\n",
       "      <th>32</th>\n",
       "      <td>Attn: All  #SXSW frineds, @mention Register fo...</td>\n",
       "      <td>NaN</td>\n",
       "      <td>No emotion toward brand or product</td>\n",
       "    </tr>\n",
       "    <tr>\n",
       "      <th>33</th>\n",
       "      <td>Anyone at  #sxsw want to sell their old iPad?</td>\n",
       "      <td>NaN</td>\n",
       "      <td>No emotion toward brand or product</td>\n",
       "    </tr>\n",
       "    <tr>\n",
       "      <th>34</th>\n",
       "      <td>Anyone at  #SXSW who bought the new iPad want ...</td>\n",
       "      <td>NaN</td>\n",
       "      <td>No emotion toward brand or product</td>\n",
       "    </tr>\n",
       "    <tr>\n",
       "      <th>...</th>\n",
       "      <td>...</td>\n",
       "      <td>...</td>\n",
       "      <td>...</td>\n",
       "    </tr>\n",
       "    <tr>\n",
       "      <th>9086</th>\n",
       "      <td>Google says: want to give a lightning talk to ...</td>\n",
       "      <td>NaN</td>\n",
       "      <td>No emotion toward brand or product</td>\n",
       "    </tr>\n",
       "    <tr>\n",
       "      <th>9087</th>\n",
       "      <td>@mention Yup, but I don't have a third app yet...</td>\n",
       "      <td>NaN</td>\n",
       "      <td>No emotion toward brand or product</td>\n",
       "    </tr>\n",
       "    <tr>\n",
       "      <th>9089</th>\n",
       "      <td>Wave, buzz... RT @mention We interrupt your re...</td>\n",
       "      <td>NaN</td>\n",
       "      <td>No emotion toward brand or product</td>\n",
       "    </tr>\n",
       "    <tr>\n",
       "      <th>9090</th>\n",
       "      <td>Google's Zeiger, a physician never reported po...</td>\n",
       "      <td>NaN</td>\n",
       "      <td>No emotion toward brand or product</td>\n",
       "    </tr>\n",
       "    <tr>\n",
       "      <th>9091</th>\n",
       "      <td>Some Verizon iPhone customers complained their...</td>\n",
       "      <td>NaN</td>\n",
       "      <td>No emotion toward brand or product</td>\n",
       "    </tr>\n",
       "  </tbody>\n",
       "</table>\n",
       "<p>5331 rows × 3 columns</p>\n",
       "</div>"
      ],
      "text/plain": [
       "                                             tweet_text  \\\n",
       "5     @teachntech00 New iPad Apps For #SpeechTherapy...   \n",
       "16    Holler Gram for iPad on the iTunes App Store -...   \n",
       "32    Attn: All  #SXSW frineds, @mention Register fo...   \n",
       "33        Anyone at  #sxsw want to sell their old iPad?   \n",
       "34    Anyone at  #SXSW who bought the new iPad want ...   \n",
       "...                                                 ...   \n",
       "9086  Google says: want to give a lightning talk to ...   \n",
       "9087  @mention Yup, but I don't have a third app yet...   \n",
       "9089  Wave, buzz... RT @mention We interrupt your re...   \n",
       "9090  Google's Zeiger, a physician never reported po...   \n",
       "9091  Some Verizon iPhone customers complained their...   \n",
       "\n",
       "     emotion_in_tweet_is_directed_at  \\\n",
       "5                                NaN   \n",
       "16                               NaN   \n",
       "32                               NaN   \n",
       "33                               NaN   \n",
       "34                               NaN   \n",
       "...                              ...   \n",
       "9086                             NaN   \n",
       "9087                             NaN   \n",
       "9089                             NaN   \n",
       "9090                             NaN   \n",
       "9091                             NaN   \n",
       "\n",
       "     is_there_an_emotion_directed_at_a_brand_or_product  \n",
       "5                    No emotion toward brand or product  \n",
       "16                   No emotion toward brand or product  \n",
       "32                   No emotion toward brand or product  \n",
       "33                   No emotion toward brand or product  \n",
       "34                   No emotion toward brand or product  \n",
       "...                                                 ...  \n",
       "9086                 No emotion toward brand or product  \n",
       "9087                 No emotion toward brand or product  \n",
       "9089                 No emotion toward brand or product  \n",
       "9090                 No emotion toward brand or product  \n",
       "9091                 No emotion toward brand or product  \n",
       "\n",
       "[5331 rows x 3 columns]"
      ]
     },
     "execution_count": 292,
     "metadata": {},
     "output_type": "execute_result"
    }
   ],
   "source": [
    "# Find the records with missing values in the 2nd column\n",
    "df[df['emotion_in_tweet_is_directed_at'].isnull() == True]"
   ]
  },
  {
   "cell_type": "markdown",
   "metadata": {},
   "source": [
    "##### Observation\n",
    "Noting that the missing data consists of over 5000 rows, this represent a significant proportion of the data if we dropped this data.\n",
    "\n",
    "To counter this problem, knowing that there are limited observable products in the 2nd column, we can read each tweet and, find and replace the missing value with the relevant product the tweett talks about."
   ]
  },
  {
   "cell_type": "code",
   "execution_count": 293,
   "metadata": {},
   "outputs": [],
   "source": [
    "# List of unique products/ services\n",
    "products = list(df.emotion_in_tweet_is_directed_at.unique())\n",
    "products.remove(np.nan) # Removes any np.nan items\n",
    "\n",
    "def find_product(tweet):\n",
    "    \"\"\"This func takes in a tweet and returns the product talked about in the \n",
    "    tweet used to fill in the emotion_in_tweet_is_directed_at column\"\"\"\n",
    "    for product in products:\n",
    "        if str(product) in tweet:\n",
    "            return product\n",
    "        else:\n",
    "            return \"None\"\n",
    "\n",
    "# Applying the function to find the index of records with missing values in the 2nd column\n",
    "missing_products_idx = df[df['emotion_in_tweet_is_directed_at'].isnull() == True].index"
   ]
  },
  {
   "cell_type": "code",
   "execution_count": 294,
   "metadata": {},
   "outputs": [],
   "source": [
    "# Replace the field where there are missing values in the emotion_in_tweet_is_directed_at column\n",
    "df.loc[missing_products_idx, 'emotion_in_tweet_is_directed_at'] = df.loc[missing_products_idx, 'tweet_text']\\\n",
    "                                                                        .apply(lambda x: find_product(x))"
   ]
  },
  {
   "cell_type": "code",
   "execution_count": 295,
   "metadata": {},
   "outputs": [
    {
     "data": {
      "text/plain": [
       "emotion_in_tweet_is_directed_at\n",
       "None                               4625\n",
       "iPhone                              992\n",
       "iPad                                906\n",
       "Apple                               613\n",
       "iPad or iPhone App                  448\n",
       "Google                              412\n",
       "Other Google product or service     278\n",
       "Android App                          77\n",
       "Android                              75\n",
       "Other Apple product or service       33\n",
       "Name: count, dtype: int64"
      ]
     },
     "execution_count": 295,
     "metadata": {},
     "output_type": "execute_result"
    }
   ],
   "source": [
    "# Check\n",
    "df['emotion_in_tweet_is_directed_at'].value_counts()"
   ]
  },
  {
   "cell_type": "markdown",
   "metadata": {},
   "source": [
    "### 4.3 Consistency\n",
    "\n",
    "#### 4.3.1. Drop the Duplicates"
   ]
  },
  {
   "cell_type": "code",
   "execution_count": 296,
   "metadata": {},
   "outputs": [],
   "source": [
    "df.drop_duplicates(inplace=True)"
   ]
  },
  {
   "cell_type": "code",
   "execution_count": 297,
   "metadata": {},
   "outputs": [
    {
     "data": {
      "text/plain": [
       "0"
      ]
     },
     "execution_count": 297,
     "metadata": {},
     "output_type": "execute_result"
    }
   ],
   "source": [
    "# Check\n",
    "df.duplicated().sum()"
   ]
  },
  {
   "cell_type": "markdown",
   "metadata": {},
   "source": [
    "### 4.4. Uniformity "
   ]
  },
  {
   "cell_type": "markdown",
   "metadata": {},
   "source": [
    "#### 4.4.1. Renaming the columns"
   ]
  },
  {
   "cell_type": "code",
   "execution_count": 298,
   "metadata": {},
   "outputs": [],
   "source": [
    "# Change the column names\n",
    "df.rename(columns={'tweet_text': \"tweet\", \n",
    "                  'emotion_in_tweet_is_directed_at':\"product\",\n",
    "                  'is_there_an_emotion_directed_at_a_brand_or_product': \"emotion\"},\n",
    "         inplace=True)"
   ]
  },
  {
   "cell_type": "code",
   "execution_count": 299,
   "metadata": {
    "scrolled": false
   },
   "outputs": [
    {
     "data": {
      "text/plain": [
       "Index(['tweet', 'product', 'emotion'], dtype='object')"
      ]
     },
     "execution_count": 299,
     "metadata": {},
     "output_type": "execute_result"
    }
   ],
   "source": [
    "# Check\n",
    "df.columns"
   ]
  },
  {
   "cell_type": "markdown",
   "metadata": {},
   "source": [
    "#### 4.4.2. Reset the Index of the dataframe"
   ]
  },
  {
   "cell_type": "code",
   "execution_count": 300,
   "metadata": {},
   "outputs": [
    {
     "data": {
      "text/html": [
       "<div>\n",
       "<style scoped>\n",
       "    .dataframe tbody tr th:only-of-type {\n",
       "        vertical-align: middle;\n",
       "    }\n",
       "\n",
       "    .dataframe tbody tr th {\n",
       "        vertical-align: top;\n",
       "    }\n",
       "\n",
       "    .dataframe thead th {\n",
       "        text-align: right;\n",
       "    }\n",
       "</style>\n",
       "<table border=\"1\" class=\"dataframe\">\n",
       "  <thead>\n",
       "    <tr style=\"text-align: right;\">\n",
       "      <th></th>\n",
       "      <th>tweet</th>\n",
       "      <th>product</th>\n",
       "      <th>emotion</th>\n",
       "    </tr>\n",
       "  </thead>\n",
       "  <tbody>\n",
       "    <tr>\n",
       "      <th>0</th>\n",
       "      <td>.@wesley83 I have a 3G iPhone. After 3 hrs twe...</td>\n",
       "      <td>iPhone</td>\n",
       "      <td>Negative emotion</td>\n",
       "    </tr>\n",
       "    <tr>\n",
       "      <th>1</th>\n",
       "      <td>@jessedee Know about @fludapp ? Awesome iPad/i...</td>\n",
       "      <td>iPad or iPhone App</td>\n",
       "      <td>Positive emotion</td>\n",
       "    </tr>\n",
       "    <tr>\n",
       "      <th>2</th>\n",
       "      <td>@swonderlin Can not wait for #iPad 2 also. The...</td>\n",
       "      <td>iPad</td>\n",
       "      <td>Positive emotion</td>\n",
       "    </tr>\n",
       "    <tr>\n",
       "      <th>3</th>\n",
       "      <td>@sxsw I hope this year's festival isn't as cra...</td>\n",
       "      <td>iPad or iPhone App</td>\n",
       "      <td>Negative emotion</td>\n",
       "    </tr>\n",
       "    <tr>\n",
       "      <th>4</th>\n",
       "      <td>@sxtxstate great stuff on Fri #SXSW: Marissa M...</td>\n",
       "      <td>Google</td>\n",
       "      <td>Positive emotion</td>\n",
       "    </tr>\n",
       "    <tr>\n",
       "      <th>...</th>\n",
       "      <td>...</td>\n",
       "      <td>...</td>\n",
       "      <td>...</td>\n",
       "    </tr>\n",
       "    <tr>\n",
       "      <th>8434</th>\n",
       "      <td>@mention Yup, but I don't have a third app yet...</td>\n",
       "      <td>None</td>\n",
       "      <td>No emotion toward brand or product</td>\n",
       "    </tr>\n",
       "    <tr>\n",
       "      <th>8435</th>\n",
       "      <td>Ipad everywhere. #SXSW {link}</td>\n",
       "      <td>iPad</td>\n",
       "      <td>Positive emotion</td>\n",
       "    </tr>\n",
       "    <tr>\n",
       "      <th>8436</th>\n",
       "      <td>Wave, buzz... RT @mention We interrupt your re...</td>\n",
       "      <td>None</td>\n",
       "      <td>No emotion toward brand or product</td>\n",
       "    </tr>\n",
       "    <tr>\n",
       "      <th>8437</th>\n",
       "      <td>Google's Zeiger, a physician never reported po...</td>\n",
       "      <td>None</td>\n",
       "      <td>No emotion toward brand or product</td>\n",
       "    </tr>\n",
       "    <tr>\n",
       "      <th>8438</th>\n",
       "      <td>Some Verizon iPhone customers complained their...</td>\n",
       "      <td>iPhone</td>\n",
       "      <td>No emotion toward brand or product</td>\n",
       "    </tr>\n",
       "  </tbody>\n",
       "</table>\n",
       "<p>8439 rows × 3 columns</p>\n",
       "</div>"
      ],
      "text/plain": [
       "                                                  tweet             product  \\\n",
       "0     .@wesley83 I have a 3G iPhone. After 3 hrs twe...              iPhone   \n",
       "1     @jessedee Know about @fludapp ? Awesome iPad/i...  iPad or iPhone App   \n",
       "2     @swonderlin Can not wait for #iPad 2 also. The...                iPad   \n",
       "3     @sxsw I hope this year's festival isn't as cra...  iPad or iPhone App   \n",
       "4     @sxtxstate great stuff on Fri #SXSW: Marissa M...              Google   \n",
       "...                                                 ...                 ...   \n",
       "8434  @mention Yup, but I don't have a third app yet...                None   \n",
       "8435                      Ipad everywhere. #SXSW {link}                iPad   \n",
       "8436  Wave, buzz... RT @mention We interrupt your re...                None   \n",
       "8437  Google's Zeiger, a physician never reported po...                None   \n",
       "8438  Some Verizon iPhone customers complained their...              iPhone   \n",
       "\n",
       "                                 emotion  \n",
       "0                       Negative emotion  \n",
       "1                       Positive emotion  \n",
       "2                       Positive emotion  \n",
       "3                       Negative emotion  \n",
       "4                       Positive emotion  \n",
       "...                                  ...  \n",
       "8434  No emotion toward brand or product  \n",
       "8435                    Positive emotion  \n",
       "8436  No emotion toward brand or product  \n",
       "8437  No emotion toward brand or product  \n",
       "8438  No emotion toward brand or product  \n",
       "\n",
       "[8439 rows x 3 columns]"
      ]
     },
     "execution_count": 300,
     "metadata": {},
     "output_type": "execute_result"
    }
   ],
   "source": [
    "# Reset the index\n",
    "df.reset_index(inplace=True)\n",
    "# Drop the old index column\n",
    "df.drop(labels='index', axis=1, inplace=True)\n",
    "df"
   ]
  },
  {
   "cell_type": "markdown",
   "metadata": {},
   "source": [
    "### 4.5. Conclusion\n",
    "\n",
    "To ensure that the cleaning process worked efficiently, we can access the DataUnderstanding class to perform final checks before proceeding to the next section."
   ]
  },
  {
   "cell_type": "code",
   "execution_count": 301,
   "metadata": {
    "scrolled": false
   },
   "outputs": [
    {
     "name": "stdout",
     "output_type": "stream",
     "text": [
      "INFO\n",
      "----\n",
      "<class 'pandas.core.frame.DataFrame'>\n",
      "RangeIndex: 8439 entries, 0 to 8438\n",
      "Data columns (total 3 columns):\n",
      " #   Column   Non-Null Count  Dtype \n",
      "---  ------   --------------  ----- \n",
      " 0   tweet    8439 non-null   object\n",
      " 1   product  8439 non-null   object\n",
      " 2   emotion  8439 non-null   object\n",
      "dtypes: object(3)\n",
      "memory usage: 197.9+ KB\n",
      "\n",
      "\n",
      "SHAPE\n",
      "-----\n",
      "Records in dataset are 8439 with 3 columns.\n",
      "\n",
      "\n",
      "COLUMNS\n",
      "------\n",
      "Columns in the dataset are:\n",
      "- tweet\n",
      "- product\n",
      "- emotion\n",
      "\n",
      "\n",
      "UNIQUE VALUES\n",
      "------------\n",
      "Column *tweet* has 8434 unique values\n",
      "\n",
      "Column *product* has 10 unique values\n",
      "\n",
      "Column *emotion* has 3 unique values\n",
      "Top unique values in the *emotion* include:\n",
      "- No emotion toward brand or product\n",
      "- Positive emotion\n",
      "- Negative emotion\n",
      "\n",
      "\n",
      "MISSING VALUES\n",
      "---------------\n",
      "Column *tweet* has 0 missing values.\n",
      "Column *product* has 0 missing values.\n",
      "Column *emotion* has 0 missing values.\n",
      "\n",
      "\n",
      "DUPLICATE VALUES\n",
      "----------------\n",
      "The dataset has 0 duplicated records.\n"
     ]
    }
   ],
   "source": [
    "DataUnderstanding(data=df).understanding()"
   ]
  },
  {
   "cell_type": "markdown",
   "metadata": {},
   "source": [
    "##### Observations\n",
    "The data cleaning worked efficiently."
   ]
  }
 ],
 "metadata": {
  "kernelspec": {
   "display_name": "Python 3",
   "language": "python",
   "name": "python3"
  },
  "language_info": {
   "codemirror_mode": {
    "name": "ipython",
    "version": 3
   },
   "file_extension": ".py",
   "mimetype": "text/x-python",
   "name": "python",
   "nbconvert_exporter": "python",
   "pygments_lexer": "ipython3",
   "version": "3.8.5"
  }
 },
 "nbformat": 4,
 "nbformat_minor": 2
}
